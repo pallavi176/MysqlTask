{
 "cells": [
  {
   "cell_type": "code",
   "execution_count": 1,
   "metadata": {},
   "outputs": [],
   "source": [
    "from mysqloperation import MysqlOperation"
   ]
  },
  {
   "cell_type": "code",
   "execution_count": 2,
   "metadata": {},
   "outputs": [],
   "source": [
    "DB = 'cardataset'\n",
    "TABLE = 'car'"
   ]
  },
  {
   "cell_type": "code",
   "execution_count": 3,
   "metadata": {},
   "outputs": [],
   "source": [
    "conn_1 = MysqlOperation('localhost','root','root')"
   ]
  },
  {
   "cell_type": "code",
   "execution_count": 4,
   "metadata": {},
   "outputs": [
    {
     "name": "stdout",
     "output_type": "stream",
     "text": [
      "localhost - root\n",
      "DbConnection('localhost', 'root', 'root')\n",
      "localhost - root\n"
     ]
    }
   ],
   "source": [
    "print(conn_1)\n",
    "print(repr(conn_1))\n",
    "print(str(conn_1))"
   ]
  },
  {
   "cell_type": "code",
   "execution_count": 5,
   "metadata": {},
   "outputs": [
    {
     "data": {
      "text/plain": [
       "'Database: cardataset created'"
      ]
     },
     "execution_count": 5,
     "metadata": {},
     "output_type": "execute_result"
    }
   ],
   "source": [
    "#1 . take a data set from attached URL https://archive.ics.uci.edu/ml/datasets/Car+Evaluation\n",
    "#2 . create a database called as cardataset\n",
    "\n",
    "conn_1.create_database(DB)"
   ]
  },
  {
   "cell_type": "code",
   "execution_count": 6,
   "metadata": {},
   "outputs": [
    {
     "data": {
      "text/plain": [
       "'Database: cardataset in use.'"
      ]
     },
     "execution_count": 6,
     "metadata": {},
     "output_type": "execute_result"
    }
   ],
   "source": [
    "#3 . create a table called as car with a column name given in dataset description\n",
    "conn_1.use_database(DB)"
   ]
  },
  {
   "cell_type": "code",
   "execution_count": 7,
   "metadata": {},
   "outputs": [
    {
     "name": "stdout",
     "output_type": "stream",
     "text": [
      "Table: car created successfully\n"
     ]
    }
   ],
   "source": [
    "table_structure = {\"buying\": \"VARCHAR(20)\", \"maint\": \"VARCHAR(20)\", \"doors\": \"VARCHAR(20)\", \"persons\": \"VARCHAR(20)\",\n",
    "                   \"lug_boot\": \"VARCHAR(20)\", \"safety\": \"VARCHAR(20)\", \"Class\": \"VARCHAR(20)\"}\n",
    "conn_1.create_table(TABLE, table_structure))\\"
   ]
  },
  {
   "cell_type": "code",
   "execution_count": 8,
   "metadata": {},
   "outputs": [
    {
     "data": {
      "text/plain": [
       "'Bulk data inserted to Table: car from file: car.data'"
      ]
     },
     "execution_count": 8,
     "metadata": {},
     "output_type": "execute_result"
    }
   ],
   "source": [
    "#4. Dump all the data into car table\n",
    "conn_1.bulk_insert_table(TABLE,'car.data')"
   ]
  },
  {
   "cell_type": "code",
   "execution_count": 9,
   "metadata": {},
   "outputs": [
    {
     "data": {
      "text/plain": [
       "[(1728,)]"
      ]
     },
     "execution_count": 9,
     "metadata": {},
     "output_type": "execute_result"
    }
   ],
   "source": [
    "#5. try to check weather all the data is aviable inside your table or not\n",
    "conn_1.select_count_table(TABLE)"
   ]
  },
  {
   "cell_type": "code",
   "execution_count": 10,
   "metadata": {},
   "outputs": [
    {
     "data": {
      "text/plain": [
       "[(432, 'vhigh'), (432, 'high'), (432, 'med'), (432, 'low')]"
      ]
     },
     "execution_count": 10,
     "metadata": {},
     "output_type": "execute_result"
    }
   ],
   "source": [
    "#6. try to group all the data with COL1 AND count occurences of each and every record based on col1 value\n",
    "conn_1.select_groupdata_table(TABLE,'buying')"
   ]
  },
  {
   "cell_type": "code",
   "execution_count": 11,
   "metadata": {},
   "outputs": [
    {
     "name": "stdout",
     "output_type": "stream",
     "text": [
      "('vhigh', 'vhigh', '4', '2', 'small', 'low', 'unacc')\n",
      "('vhigh', 'vhigh', '4', '2', 'small', 'med', 'unacc')\n",
      "('vhigh', 'vhigh', '4', '2', 'small', 'high', 'unacc')\n",
      "('vhigh', 'vhigh', '4', '2', 'med', 'low', 'unacc')\n",
      "('vhigh', 'vhigh', '4', '2', 'med', 'med', 'unacc')\n",
      "('vhigh', 'vhigh', '4', '2', 'med', 'high', 'unacc')\n",
      "('vhigh', 'vhigh', '4', '2', 'big', 'low', 'unacc')\n",
      "('vhigh', 'vhigh', '4', '2', 'big', 'med', 'unacc')\n",
      "('vhigh', 'vhigh', '4', '2', 'big', 'high', 'unacc')\n",
      "('vhigh', 'vhigh', '4', '4', 'small', 'low', 'unacc')\n",
      "('vhigh', 'vhigh', '4', '4', 'small', 'med', 'unacc')\n",
      "('vhigh', 'vhigh', '4', '4', 'small', 'high', 'unacc')\n",
      "('vhigh', 'vhigh', '4', '4', 'med', 'low', 'unacc')\n",
      "('vhigh', 'vhigh', '4', '4', 'med', 'med', 'unacc')\n",
      "('vhigh', 'vhigh', '4', '4', 'med', 'high', 'unacc')\n",
      "('vhigh', 'vhigh', '4', '4', 'big', 'low', 'unacc')\n",
      "('vhigh', 'vhigh', '4', '4', 'big', 'med', 'unacc')\n",
      "('vhigh', 'vhigh', '4', '4', 'big', 'high', 'unacc')\n",
      "('vhigh', 'vhigh', '4', 'more', 'small', 'low', 'unacc')\n",
      "('vhigh', 'vhigh', '4', 'more', 'small', 'med', 'unacc')\n",
      "('vhigh', 'vhigh', '4', 'more', 'small', 'high', 'unacc')\n",
      "('vhigh', 'vhigh', '4', 'more', 'med', 'low', 'unacc')\n",
      "('vhigh', 'vhigh', '4', 'more', 'med', 'med', 'unacc')\n",
      "('vhigh', 'vhigh', '4', 'more', 'med', 'high', 'unacc')\n",
      "('vhigh', 'vhigh', '4', 'more', 'big', 'low', 'unacc')\n",
      "('vhigh', 'vhigh', '4', 'more', 'big', 'med', 'unacc')\n",
      "('vhigh', 'vhigh', '4', 'more', 'big', 'high', 'unacc')\n",
      "('vhigh', 'high', '4', '2', 'small', 'low', 'unacc')\n",
      "('vhigh', 'high', '4', '2', 'small', 'med', 'unacc')\n",
      "('vhigh', 'high', '4', '2', 'small', 'high', 'unacc')\n",
      "('vhigh', 'high', '4', '2', 'med', 'low', 'unacc')\n",
      "('vhigh', 'high', '4', '2', 'med', 'med', 'unacc')\n",
      "('vhigh', 'high', '4', '2', 'med', 'high', 'unacc')\n",
      "('vhigh', 'high', '4', '2', 'big', 'low', 'unacc')\n",
      "('vhigh', 'high', '4', '2', 'big', 'med', 'unacc')\n",
      "('vhigh', 'high', '4', '2', 'big', 'high', 'unacc')\n",
      "('vhigh', 'high', '4', '4', 'small', 'low', 'unacc')\n",
      "('vhigh', 'high', '4', '4', 'small', 'med', 'unacc')\n",
      "('vhigh', 'high', '4', '4', 'small', 'high', 'unacc')\n",
      "('vhigh', 'high', '4', '4', 'med', 'low', 'unacc')\n",
      "('vhigh', 'high', '4', '4', 'med', 'med', 'unacc')\n",
      "('vhigh', 'high', '4', '4', 'med', 'high', 'unacc')\n",
      "('vhigh', 'high', '4', '4', 'big', 'low', 'unacc')\n",
      "('vhigh', 'high', '4', '4', 'big', 'med', 'unacc')\n",
      "('vhigh', 'high', '4', '4', 'big', 'high', 'unacc')\n",
      "('vhigh', 'high', '4', 'more', 'small', 'low', 'unacc')\n",
      "('vhigh', 'high', '4', 'more', 'small', 'med', 'unacc')\n",
      "('vhigh', 'high', '4', 'more', 'small', 'high', 'unacc')\n",
      "('vhigh', 'high', '4', 'more', 'med', 'low', 'unacc')\n",
      "('vhigh', 'high', '4', 'more', 'med', 'med', 'unacc')\n",
      "('vhigh', 'high', '4', 'more', 'med', 'high', 'unacc')\n",
      "('vhigh', 'high', '4', 'more', 'big', 'low', 'unacc')\n",
      "('vhigh', 'high', '4', 'more', 'big', 'med', 'unacc')\n",
      "('vhigh', 'high', '4', 'more', 'big', 'high', 'unacc')\n",
      "('vhigh', 'med', '4', '2', 'small', 'low', 'unacc')\n",
      "('vhigh', 'med', '4', '2', 'small', 'med', 'unacc')\n",
      "('vhigh', 'med', '4', '2', 'small', 'high', 'unacc')\n",
      "('vhigh', 'med', '4', '2', 'med', 'low', 'unacc')\n",
      "('vhigh', 'med', '4', '2', 'med', 'med', 'unacc')\n",
      "('vhigh', 'med', '4', '2', 'med', 'high', 'unacc')\n",
      "('vhigh', 'med', '4', '2', 'big', 'low', 'unacc')\n",
      "('vhigh', 'med', '4', '2', 'big', 'med', 'unacc')\n",
      "('vhigh', 'med', '4', '2', 'big', 'high', 'unacc')\n",
      "('vhigh', 'med', '4', '4', 'small', 'low', 'unacc')\n",
      "('vhigh', 'med', '4', '4', 'small', 'med', 'unacc')\n",
      "('vhigh', 'med', '4', '4', 'small', 'high', 'acc')\n",
      "('vhigh', 'med', '4', '4', 'med', 'low', 'unacc')\n",
      "('vhigh', 'med', '4', '4', 'med', 'med', 'acc')\n",
      "('vhigh', 'med', '4', '4', 'med', 'high', 'acc')\n",
      "('vhigh', 'med', '4', '4', 'big', 'low', 'unacc')\n",
      "('vhigh', 'med', '4', '4', 'big', 'med', 'acc')\n",
      "('vhigh', 'med', '4', '4', 'big', 'high', 'acc')\n",
      "('vhigh', 'med', '4', 'more', 'small', 'low', 'unacc')\n",
      "('vhigh', 'med', '4', 'more', 'small', 'med', 'unacc')\n",
      "('vhigh', 'med', '4', 'more', 'small', 'high', 'acc')\n",
      "('vhigh', 'med', '4', 'more', 'med', 'low', 'unacc')\n",
      "('vhigh', 'med', '4', 'more', 'med', 'med', 'acc')\n",
      "('vhigh', 'med', '4', 'more', 'med', 'high', 'acc')\n",
      "('vhigh', 'med', '4', 'more', 'big', 'low', 'unacc')\n",
      "('vhigh', 'med', '4', 'more', 'big', 'med', 'acc')\n",
      "('vhigh', 'med', '4', 'more', 'big', 'high', 'acc')\n",
      "('vhigh', 'low', '4', '2', 'small', 'low', 'unacc')\n",
      "('vhigh', 'low', '4', '2', 'small', 'med', 'unacc')\n",
      "('vhigh', 'low', '4', '2', 'small', 'high', 'unacc')\n",
      "('vhigh', 'low', '4', '2', 'med', 'low', 'unacc')\n",
      "('vhigh', 'low', '4', '2', 'med', 'med', 'unacc')\n",
      "('vhigh', 'low', '4', '2', 'med', 'high', 'unacc')\n",
      "('vhigh', 'low', '4', '2', 'big', 'low', 'unacc')\n",
      "('vhigh', 'low', '4', '2', 'big', 'med', 'unacc')\n",
      "('vhigh', 'low', '4', '2', 'big', 'high', 'unacc')\n",
      "('vhigh', 'low', '4', '4', 'small', 'low', 'unacc')\n",
      "('vhigh', 'low', '4', '4', 'small', 'med', 'unacc')\n",
      "('vhigh', 'low', '4', '4', 'small', 'high', 'acc')\n",
      "('vhigh', 'low', '4', '4', 'med', 'low', 'unacc')\n",
      "('vhigh', 'low', '4', '4', 'med', 'med', 'acc')\n",
      "('vhigh', 'low', '4', '4', 'med', 'high', 'acc')\n",
      "('vhigh', 'low', '4', '4', 'big', 'low', 'unacc')\n",
      "('vhigh', 'low', '4', '4', 'big', 'med', 'acc')\n",
      "('vhigh', 'low', '4', '4', 'big', 'high', 'acc')\n",
      "('vhigh', 'low', '4', 'more', 'small', 'low', 'unacc')\n",
      "('vhigh', 'low', '4', 'more', 'small', 'med', 'unacc')\n",
      "('vhigh', 'low', '4', 'more', 'small', 'high', 'acc')\n",
      "('vhigh', 'low', '4', 'more', 'med', 'low', 'unacc')\n",
      "('vhigh', 'low', '4', 'more', 'med', 'med', 'acc')\n",
      "('vhigh', 'low', '4', 'more', 'med', 'high', 'acc')\n",
      "('vhigh', 'low', '4', 'more', 'big', 'low', 'unacc')\n",
      "('vhigh', 'low', '4', 'more', 'big', 'med', 'acc')\n",
      "('vhigh', 'low', '4', 'more', 'big', 'high', 'acc')\n",
      "('high', 'vhigh', '4', '2', 'small', 'low', 'unacc')\n",
      "('high', 'vhigh', '4', '2', 'small', 'med', 'unacc')\n",
      "('high', 'vhigh', '4', '2', 'small', 'high', 'unacc')\n",
      "('high', 'vhigh', '4', '2', 'med', 'low', 'unacc')\n",
      "('high', 'vhigh', '4', '2', 'med', 'med', 'unacc')\n",
      "('high', 'vhigh', '4', '2', 'med', 'high', 'unacc')\n",
      "('high', 'vhigh', '4', '2', 'big', 'low', 'unacc')\n",
      "('high', 'vhigh', '4', '2', 'big', 'med', 'unacc')\n",
      "('high', 'vhigh', '4', '2', 'big', 'high', 'unacc')\n",
      "('high', 'vhigh', '4', '4', 'small', 'low', 'unacc')\n",
      "('high', 'vhigh', '4', '4', 'small', 'med', 'unacc')\n",
      "('high', 'vhigh', '4', '4', 'small', 'high', 'unacc')\n",
      "('high', 'vhigh', '4', '4', 'med', 'low', 'unacc')\n",
      "('high', 'vhigh', '4', '4', 'med', 'med', 'unacc')\n",
      "('high', 'vhigh', '4', '4', 'med', 'high', 'unacc')\n",
      "('high', 'vhigh', '4', '4', 'big', 'low', 'unacc')\n",
      "('high', 'vhigh', '4', '4', 'big', 'med', 'unacc')\n",
      "('high', 'vhigh', '4', '4', 'big', 'high', 'unacc')\n",
      "('high', 'vhigh', '4', 'more', 'small', 'low', 'unacc')\n",
      "('high', 'vhigh', '4', 'more', 'small', 'med', 'unacc')\n",
      "('high', 'vhigh', '4', 'more', 'small', 'high', 'unacc')\n",
      "('high', 'vhigh', '4', 'more', 'med', 'low', 'unacc')\n",
      "('high', 'vhigh', '4', 'more', 'med', 'med', 'unacc')\n",
      "('high', 'vhigh', '4', 'more', 'med', 'high', 'unacc')\n",
      "('high', 'vhigh', '4', 'more', 'big', 'low', 'unacc')\n",
      "('high', 'vhigh', '4', 'more', 'big', 'med', 'unacc')\n",
      "('high', 'vhigh', '4', 'more', 'big', 'high', 'unacc')\n",
      "('high', 'high', '4', '2', 'small', 'low', 'unacc')\n",
      "('high', 'high', '4', '2', 'small', 'med', 'unacc')\n",
      "('high', 'high', '4', '2', 'small', 'high', 'unacc')\n",
      "('high', 'high', '4', '2', 'med', 'low', 'unacc')\n",
      "('high', 'high', '4', '2', 'med', 'med', 'unacc')\n",
      "('high', 'high', '4', '2', 'med', 'high', 'unacc')\n",
      "('high', 'high', '4', '2', 'big', 'low', 'unacc')\n",
      "('high', 'high', '4', '2', 'big', 'med', 'unacc')\n",
      "('high', 'high', '4', '2', 'big', 'high', 'unacc')\n",
      "('high', 'high', '4', '4', 'small', 'low', 'unacc')\n",
      "('high', 'high', '4', '4', 'small', 'med', 'unacc')\n",
      "('high', 'high', '4', '4', 'small', 'high', 'acc')\n",
      "('high', 'high', '4', '4', 'med', 'low', 'unacc')\n",
      "('high', 'high', '4', '4', 'med', 'med', 'acc')\n",
      "('high', 'high', '4', '4', 'med', 'high', 'acc')\n",
      "('high', 'high', '4', '4', 'big', 'low', 'unacc')\n",
      "('high', 'high', '4', '4', 'big', 'med', 'acc')\n",
      "('high', 'high', '4', '4', 'big', 'high', 'acc')\n",
      "('high', 'high', '4', 'more', 'small', 'low', 'unacc')\n",
      "('high', 'high', '4', 'more', 'small', 'med', 'unacc')\n",
      "('high', 'high', '4', 'more', 'small', 'high', 'acc')\n",
      "('high', 'high', '4', 'more', 'med', 'low', 'unacc')\n",
      "('high', 'high', '4', 'more', 'med', 'med', 'acc')\n",
      "('high', 'high', '4', 'more', 'med', 'high', 'acc')\n",
      "('high', 'high', '4', 'more', 'big', 'low', 'unacc')\n",
      "('high', 'high', '4', 'more', 'big', 'med', 'acc')\n",
      "('high', 'high', '4', 'more', 'big', 'high', 'acc')\n",
      "('high', 'med', '4', '2', 'small', 'low', 'unacc')\n",
      "('high', 'med', '4', '2', 'small', 'med', 'unacc')\n",
      "('high', 'med', '4', '2', 'small', 'high', 'unacc')\n",
      "('high', 'med', '4', '2', 'med', 'low', 'unacc')\n",
      "('high', 'med', '4', '2', 'med', 'med', 'unacc')\n",
      "('high', 'med', '4', '2', 'med', 'high', 'unacc')\n",
      "('high', 'med', '4', '2', 'big', 'low', 'unacc')\n",
      "('high', 'med', '4', '2', 'big', 'med', 'unacc')\n",
      "('high', 'med', '4', '2', 'big', 'high', 'unacc')\n",
      "('high', 'med', '4', '4', 'small', 'low', 'unacc')\n",
      "('high', 'med', '4', '4', 'small', 'med', 'unacc')\n",
      "('high', 'med', '4', '4', 'small', 'high', 'acc')\n",
      "('high', 'med', '4', '4', 'med', 'low', 'unacc')\n",
      "('high', 'med', '4', '4', 'med', 'med', 'acc')\n",
      "('high', 'med', '4', '4', 'med', 'high', 'acc')\n",
      "('high', 'med', '4', '4', 'big', 'low', 'unacc')\n",
      "('high', 'med', '4', '4', 'big', 'med', 'acc')\n",
      "('high', 'med', '4', '4', 'big', 'high', 'acc')\n",
      "('high', 'med', '4', 'more', 'small', 'low', 'unacc')\n",
      "('high', 'med', '4', 'more', 'small', 'med', 'unacc')\n",
      "('high', 'med', '4', 'more', 'small', 'high', 'acc')\n",
      "('high', 'med', '4', 'more', 'med', 'low', 'unacc')\n",
      "('high', 'med', '4', 'more', 'med', 'med', 'acc')\n",
      "('high', 'med', '4', 'more', 'med', 'high', 'acc')\n",
      "('high', 'med', '4', 'more', 'big', 'low', 'unacc')\n",
      "('high', 'med', '4', 'more', 'big', 'med', 'acc')\n",
      "('high', 'med', '4', 'more', 'big', 'high', 'acc')\n",
      "('high', 'low', '4', '2', 'small', 'low', 'unacc')\n",
      "('high', 'low', '4', '2', 'small', 'med', 'unacc')\n",
      "('high', 'low', '4', '2', 'small', 'high', 'unacc')\n",
      "('high', 'low', '4', '2', 'med', 'low', 'unacc')\n",
      "('high', 'low', '4', '2', 'med', 'med', 'unacc')\n",
      "('high', 'low', '4', '2', 'med', 'high', 'unacc')\n",
      "('high', 'low', '4', '2', 'big', 'low', 'unacc')\n",
      "('high', 'low', '4', '2', 'big', 'med', 'unacc')\n",
      "('high', 'low', '4', '2', 'big', 'high', 'unacc')\n",
      "('high', 'low', '4', '4', 'small', 'low', 'unacc')\n",
      "('high', 'low', '4', '4', 'small', 'med', 'unacc')\n",
      "('high', 'low', '4', '4', 'small', 'high', 'acc')\n",
      "('high', 'low', '4', '4', 'med', 'low', 'unacc')\n",
      "('high', 'low', '4', '4', 'med', 'med', 'acc')\n",
      "('high', 'low', '4', '4', 'med', 'high', 'acc')\n",
      "('high', 'low', '4', '4', 'big', 'low', 'unacc')\n",
      "('high', 'low', '4', '4', 'big', 'med', 'acc')\n",
      "('high', 'low', '4', '4', 'big', 'high', 'acc')\n",
      "('high', 'low', '4', 'more', 'small', 'low', 'unacc')\n",
      "('high', 'low', '4', 'more', 'small', 'med', 'unacc')\n",
      "('high', 'low', '4', 'more', 'small', 'high', 'acc')\n",
      "('high', 'low', '4', 'more', 'med', 'low', 'unacc')\n",
      "('high', 'low', '4', 'more', 'med', 'med', 'acc')\n",
      "('high', 'low', '4', 'more', 'med', 'high', 'acc')\n",
      "('high', 'low', '4', 'more', 'big', 'low', 'unacc')\n",
      "('high', 'low', '4', 'more', 'big', 'med', 'acc')\n",
      "('high', 'low', '4', 'more', 'big', 'high', 'acc')\n",
      "('med', 'vhigh', '4', '2', 'small', 'low', 'unacc')\n",
      "('med', 'vhigh', '4', '2', 'small', 'med', 'unacc')\n",
      "('med', 'vhigh', '4', '2', 'small', 'high', 'unacc')\n",
      "('med', 'vhigh', '4', '2', 'med', 'low', 'unacc')\n",
      "('med', 'vhigh', '4', '2', 'med', 'med', 'unacc')\n",
      "('med', 'vhigh', '4', '2', 'med', 'high', 'unacc')\n",
      "('med', 'vhigh', '4', '2', 'big', 'low', 'unacc')\n",
      "('med', 'vhigh', '4', '2', 'big', 'med', 'unacc')\n",
      "('med', 'vhigh', '4', '2', 'big', 'high', 'unacc')\n",
      "('med', 'vhigh', '4', '4', 'small', 'low', 'unacc')\n",
      "('med', 'vhigh', '4', '4', 'small', 'med', 'unacc')\n",
      "('med', 'vhigh', '4', '4', 'small', 'high', 'acc')\n",
      "('med', 'vhigh', '4', '4', 'med', 'low', 'unacc')\n",
      "('med', 'vhigh', '4', '4', 'med', 'med', 'acc')\n",
      "('med', 'vhigh', '4', '4', 'med', 'high', 'acc')\n",
      "('med', 'vhigh', '4', '4', 'big', 'low', 'unacc')\n",
      "('med', 'vhigh', '4', '4', 'big', 'med', 'acc')\n",
      "('med', 'vhigh', '4', '4', 'big', 'high', 'acc')\n",
      "('med', 'vhigh', '4', 'more', 'small', 'low', 'unacc')\n",
      "('med', 'vhigh', '4', 'more', 'small', 'med', 'unacc')\n",
      "('med', 'vhigh', '4', 'more', 'small', 'high', 'acc')\n",
      "('med', 'vhigh', '4', 'more', 'med', 'low', 'unacc')\n",
      "('med', 'vhigh', '4', 'more', 'med', 'med', 'acc')\n",
      "('med', 'vhigh', '4', 'more', 'med', 'high', 'acc')\n",
      "('med', 'vhigh', '4', 'more', 'big', 'low', 'unacc')\n",
      "('med', 'vhigh', '4', 'more', 'big', 'med', 'acc')\n",
      "('med', 'vhigh', '4', 'more', 'big', 'high', 'acc')\n",
      "('med', 'high', '4', '2', 'small', 'low', 'unacc')\n",
      "('med', 'high', '4', '2', 'small', 'med', 'unacc')\n",
      "('med', 'high', '4', '2', 'small', 'high', 'unacc')\n",
      "('med', 'high', '4', '2', 'med', 'low', 'unacc')\n",
      "('med', 'high', '4', '2', 'med', 'med', 'unacc')\n",
      "('med', 'high', '4', '2', 'med', 'high', 'unacc')\n",
      "('med', 'high', '4', '2', 'big', 'low', 'unacc')\n",
      "('med', 'high', '4', '2', 'big', 'med', 'unacc')\n",
      "('med', 'high', '4', '2', 'big', 'high', 'unacc')\n",
      "('med', 'high', '4', '4', 'small', 'low', 'unacc')\n",
      "('med', 'high', '4', '4', 'small', 'med', 'unacc')\n",
      "('med', 'high', '4', '4', 'small', 'high', 'acc')\n",
      "('med', 'high', '4', '4', 'med', 'low', 'unacc')\n",
      "('med', 'high', '4', '4', 'med', 'med', 'acc')\n",
      "('med', 'high', '4', '4', 'med', 'high', 'acc')\n",
      "('med', 'high', '4', '4', 'big', 'low', 'unacc')\n",
      "('med', 'high', '4', '4', 'big', 'med', 'acc')\n",
      "('med', 'high', '4', '4', 'big', 'high', 'acc')\n",
      "('med', 'high', '4', 'more', 'small', 'low', 'unacc')\n",
      "('med', 'high', '4', 'more', 'small', 'med', 'unacc')\n",
      "('med', 'high', '4', 'more', 'small', 'high', 'acc')\n",
      "('med', 'high', '4', 'more', 'med', 'low', 'unacc')\n",
      "('med', 'high', '4', 'more', 'med', 'med', 'acc')\n",
      "('med', 'high', '4', 'more', 'med', 'high', 'acc')\n",
      "('med', 'high', '4', 'more', 'big', 'low', 'unacc')\n",
      "('med', 'high', '4', 'more', 'big', 'med', 'acc')\n",
      "('med', 'high', '4', 'more', 'big', 'high', 'acc')\n",
      "('med', 'med', '4', '2', 'small', 'low', 'unacc')\n",
      "('med', 'med', '4', '2', 'small', 'med', 'unacc')\n",
      "('med', 'med', '4', '2', 'small', 'high', 'unacc')\n",
      "('med', 'med', '4', '2', 'med', 'low', 'unacc')\n",
      "('med', 'med', '4', '2', 'med', 'med', 'unacc')\n",
      "('med', 'med', '4', '2', 'med', 'high', 'unacc')\n",
      "('med', 'med', '4', '2', 'big', 'low', 'unacc')\n",
      "('med', 'med', '4', '2', 'big', 'med', 'unacc')\n",
      "('med', 'med', '4', '2', 'big', 'high', 'unacc')\n",
      "('med', 'med', '4', '4', 'small', 'low', 'unacc')\n",
      "('med', 'med', '4', '4', 'small', 'med', 'acc')\n",
      "('med', 'med', '4', '4', 'small', 'high', 'acc')\n",
      "('med', 'med', '4', '4', 'med', 'low', 'unacc')\n",
      "('med', 'med', '4', '4', 'med', 'med', 'acc')\n",
      "('med', 'med', '4', '4', 'med', 'high', 'vgood')\n",
      "('med', 'med', '4', '4', 'big', 'low', 'unacc')\n",
      "('med', 'med', '4', '4', 'big', 'med', 'acc')\n",
      "('med', 'med', '4', '4', 'big', 'high', 'vgood')\n",
      "('med', 'med', '4', 'more', 'small', 'low', 'unacc')\n",
      "('med', 'med', '4', 'more', 'small', 'med', 'acc')\n",
      "('med', 'med', '4', 'more', 'small', 'high', 'acc')\n",
      "('med', 'med', '4', 'more', 'med', 'low', 'unacc')\n",
      "('med', 'med', '4', 'more', 'med', 'med', 'acc')\n",
      "('med', 'med', '4', 'more', 'med', 'high', 'vgood')\n",
      "('med', 'med', '4', 'more', 'big', 'low', 'unacc')\n",
      "('med', 'med', '4', 'more', 'big', 'med', 'acc')\n",
      "('med', 'med', '4', 'more', 'big', 'high', 'vgood')\n",
      "('med', 'low', '4', '2', 'small', 'low', 'unacc')\n",
      "('med', 'low', '4', '2', 'small', 'med', 'unacc')\n",
      "('med', 'low', '4', '2', 'small', 'high', 'unacc')\n",
      "('med', 'low', '4', '2', 'med', 'low', 'unacc')\n",
      "('med', 'low', '4', '2', 'med', 'med', 'unacc')\n",
      "('med', 'low', '4', '2', 'med', 'high', 'unacc')\n",
      "('med', 'low', '4', '2', 'big', 'low', 'unacc')\n",
      "('med', 'low', '4', '2', 'big', 'med', 'unacc')\n",
      "('med', 'low', '4', '2', 'big', 'high', 'unacc')\n",
      "('med', 'low', '4', '4', 'small', 'low', 'unacc')\n",
      "('med', 'low', '4', '4', 'small', 'med', 'acc')\n",
      "('med', 'low', '4', '4', 'small', 'high', 'good')\n",
      "('med', 'low', '4', '4', 'med', 'low', 'unacc')\n",
      "('med', 'low', '4', '4', 'med', 'med', 'good')\n",
      "('med', 'low', '4', '4', 'med', 'high', 'vgood')\n",
      "('med', 'low', '4', '4', 'big', 'low', 'unacc')\n",
      "('med', 'low', '4', '4', 'big', 'med', 'good')\n",
      "('med', 'low', '4', '4', 'big', 'high', 'vgood')\n",
      "('med', 'low', '4', 'more', 'small', 'low', 'unacc')\n",
      "('med', 'low', '4', 'more', 'small', 'med', 'acc')\n",
      "('med', 'low', '4', 'more', 'small', 'high', 'good')\n",
      "('med', 'low', '4', 'more', 'med', 'low', 'unacc')\n",
      "('med', 'low', '4', 'more', 'med', 'med', 'good')\n",
      "('med', 'low', '4', 'more', 'med', 'high', 'vgood')\n",
      "('med', 'low', '4', 'more', 'big', 'low', 'unacc')\n",
      "('med', 'low', '4', 'more', 'big', 'med', 'good')\n",
      "('med', 'low', '4', 'more', 'big', 'high', 'vgood')\n",
      "('low', 'vhigh', '4', '2', 'small', 'low', 'unacc')\n",
      "('low', 'vhigh', '4', '2', 'small', 'med', 'unacc')\n",
      "('low', 'vhigh', '4', '2', 'small', 'high', 'unacc')\n",
      "('low', 'vhigh', '4', '2', 'med', 'low', 'unacc')\n",
      "('low', 'vhigh', '4', '2', 'med', 'med', 'unacc')\n",
      "('low', 'vhigh', '4', '2', 'med', 'high', 'unacc')\n",
      "('low', 'vhigh', '4', '2', 'big', 'low', 'unacc')\n",
      "('low', 'vhigh', '4', '2', 'big', 'med', 'unacc')\n",
      "('low', 'vhigh', '4', '2', 'big', 'high', 'unacc')\n",
      "('low', 'vhigh', '4', '4', 'small', 'low', 'unacc')\n",
      "('low', 'vhigh', '4', '4', 'small', 'med', 'unacc')\n",
      "('low', 'vhigh', '4', '4', 'small', 'high', 'acc')\n",
      "('low', 'vhigh', '4', '4', 'med', 'low', 'unacc')\n",
      "('low', 'vhigh', '4', '4', 'med', 'med', 'acc')\n",
      "('low', 'vhigh', '4', '4', 'med', 'high', 'acc')\n",
      "('low', 'vhigh', '4', '4', 'big', 'low', 'unacc')\n",
      "('low', 'vhigh', '4', '4', 'big', 'med', 'acc')\n",
      "('low', 'vhigh', '4', '4', 'big', 'high', 'acc')\n",
      "('low', 'vhigh', '4', 'more', 'small', 'low', 'unacc')\n",
      "('low', 'vhigh', '4', 'more', 'small', 'med', 'unacc')\n",
      "('low', 'vhigh', '4', 'more', 'small', 'high', 'acc')\n",
      "('low', 'vhigh', '4', 'more', 'med', 'low', 'unacc')\n",
      "('low', 'vhigh', '4', 'more', 'med', 'med', 'acc')\n",
      "('low', 'vhigh', '4', 'more', 'med', 'high', 'acc')\n",
      "('low', 'vhigh', '4', 'more', 'big', 'low', 'unacc')\n",
      "('low', 'vhigh', '4', 'more', 'big', 'med', 'acc')\n",
      "('low', 'vhigh', '4', 'more', 'big', 'high', 'acc')\n",
      "('low', 'high', '4', '2', 'small', 'low', 'unacc')\n",
      "('low', 'high', '4', '2', 'small', 'med', 'unacc')\n",
      "('low', 'high', '4', '2', 'small', 'high', 'unacc')\n",
      "('low', 'high', '4', '2', 'med', 'low', 'unacc')\n",
      "('low', 'high', '4', '2', 'med', 'med', 'unacc')\n",
      "('low', 'high', '4', '2', 'med', 'high', 'unacc')\n",
      "('low', 'high', '4', '2', 'big', 'low', 'unacc')\n",
      "('low', 'high', '4', '2', 'big', 'med', 'unacc')\n",
      "('low', 'high', '4', '2', 'big', 'high', 'unacc')\n",
      "('low', 'high', '4', '4', 'small', 'low', 'unacc')\n",
      "('low', 'high', '4', '4', 'small', 'med', 'acc')\n",
      "('low', 'high', '4', '4', 'small', 'high', 'acc')\n",
      "('low', 'high', '4', '4', 'med', 'low', 'unacc')\n",
      "('low', 'high', '4', '4', 'med', 'med', 'acc')\n",
      "('low', 'high', '4', '4', 'med', 'high', 'vgood')\n",
      "('low', 'high', '4', '4', 'big', 'low', 'unacc')\n",
      "('low', 'high', '4', '4', 'big', 'med', 'acc')\n",
      "('low', 'high', '4', '4', 'big', 'high', 'vgood')\n",
      "('low', 'high', '4', 'more', 'small', 'low', 'unacc')\n",
      "('low', 'high', '4', 'more', 'small', 'med', 'acc')\n",
      "('low', 'high', '4', 'more', 'small', 'high', 'acc')\n",
      "('low', 'high', '4', 'more', 'med', 'low', 'unacc')\n",
      "('low', 'high', '4', 'more', 'med', 'med', 'acc')\n",
      "('low', 'high', '4', 'more', 'med', 'high', 'vgood')\n",
      "('low', 'high', '4', 'more', 'big', 'low', 'unacc')\n",
      "('low', 'high', '4', 'more', 'big', 'med', 'acc')\n",
      "('low', 'high', '4', 'more', 'big', 'high', 'vgood')\n",
      "('low', 'med', '4', '2', 'small', 'low', 'unacc')\n",
      "('low', 'med', '4', '2', 'small', 'med', 'unacc')\n",
      "('low', 'med', '4', '2', 'small', 'high', 'unacc')\n",
      "('low', 'med', '4', '2', 'med', 'low', 'unacc')\n",
      "('low', 'med', '4', '2', 'med', 'med', 'unacc')\n",
      "('low', 'med', '4', '2', 'med', 'high', 'unacc')\n",
      "('low', 'med', '4', '2', 'big', 'low', 'unacc')\n",
      "('low', 'med', '4', '2', 'big', 'med', 'unacc')\n",
      "('low', 'med', '4', '2', 'big', 'high', 'unacc')\n",
      "('low', 'med', '4', '4', 'small', 'low', 'unacc')\n",
      "('low', 'med', '4', '4', 'small', 'med', 'acc')\n",
      "('low', 'med', '4', '4', 'small', 'high', 'good')\n",
      "('low', 'med', '4', '4', 'med', 'low', 'unacc')\n",
      "('low', 'med', '4', '4', 'med', 'med', 'good')\n",
      "('low', 'med', '4', '4', 'med', 'high', 'vgood')\n",
      "('low', 'med', '4', '4', 'big', 'low', 'unacc')\n",
      "('low', 'med', '4', '4', 'big', 'med', 'good')\n",
      "('low', 'med', '4', '4', 'big', 'high', 'vgood')\n",
      "('low', 'med', '4', 'more', 'small', 'low', 'unacc')\n",
      "('low', 'med', '4', 'more', 'small', 'med', 'acc')\n",
      "('low', 'med', '4', 'more', 'small', 'high', 'good')\n",
      "('low', 'med', '4', 'more', 'med', 'low', 'unacc')\n",
      "('low', 'med', '4', 'more', 'med', 'med', 'good')\n",
      "('low', 'med', '4', 'more', 'med', 'high', 'vgood')\n",
      "('low', 'med', '4', 'more', 'big', 'low', 'unacc')\n",
      "('low', 'med', '4', 'more', 'big', 'med', 'good')\n",
      "('low', 'med', '4', 'more', 'big', 'high', 'vgood')\n",
      "('low', 'low', '4', '2', 'small', 'low', 'unacc')\n",
      "('low', 'low', '4', '2', 'small', 'med', 'unacc')\n",
      "('low', 'low', '4', '2', 'small', 'high', 'unacc')\n",
      "('low', 'low', '4', '2', 'med', 'low', 'unacc')\n",
      "('low', 'low', '4', '2', 'med', 'med', 'unacc')\n",
      "('low', 'low', '4', '2', 'med', 'high', 'unacc')\n",
      "('low', 'low', '4', '2', 'big', 'low', 'unacc')\n",
      "('low', 'low', '4', '2', 'big', 'med', 'unacc')\n",
      "('low', 'low', '4', '2', 'big', 'high', 'unacc')\n",
      "('low', 'low', '4', '4', 'small', 'low', 'unacc')\n",
      "('low', 'low', '4', '4', 'small', 'med', 'acc')\n",
      "('low', 'low', '4', '4', 'small', 'high', 'good')\n",
      "('low', 'low', '4', '4', 'med', 'low', 'unacc')\n",
      "('low', 'low', '4', '4', 'med', 'med', 'good')\n",
      "('low', 'low', '4', '4', 'med', 'high', 'vgood')\n",
      "('low', 'low', '4', '4', 'big', 'low', 'unacc')\n",
      "('low', 'low', '4', '4', 'big', 'med', 'good')\n",
      "('low', 'low', '4', '4', 'big', 'high', 'vgood')\n",
      "('low', 'low', '4', 'more', 'small', 'low', 'unacc')\n",
      "('low', 'low', '4', 'more', 'small', 'med', 'acc')\n",
      "('low', 'low', '4', 'more', 'small', 'high', 'good')\n",
      "('low', 'low', '4', 'more', 'med', 'low', 'unacc')\n",
      "('low', 'low', '4', 'more', 'med', 'med', 'good')\n",
      "('low', 'low', '4', 'more', 'med', 'high', 'vgood')\n",
      "('low', 'low', '4', 'more', 'big', 'low', 'unacc')\n",
      "('low', 'low', '4', 'more', 'big', 'med', 'good')\n",
      "('low', 'low', '4', 'more', 'big', 'high', 'vgood')\n"
     ]
    }
   ],
   "source": [
    "#7. Try to filter a record where col 3 value will be 4 .\n",
    "data=conn_1.select_filterdata_table(TABLE,'doors','4')\n",
    "for d in data:\n",
    "    print(d)"
   ]
  },
  {
   "cell_type": "code",
   "execution_count": 12,
   "metadata": {},
   "outputs": [
    {
     "data": {
      "text/plain": [
       "'Updated column:doors having old value: 2 with 8 in Table: car.'"
      ]
     },
     "execution_count": 12,
     "metadata": {},
     "output_type": "execute_result"
    }
   ],
   "source": [
    "#8. Try to update a col 3 value with 8 whereever you have value equal to 2\n",
    "conn_1.update_column_table(TABLE,'doors','2','8')"
   ]
  },
  {
   "cell_type": "code",
   "execution_count": 13,
   "metadata": {},
   "outputs": [
    {
     "data": {
      "text/plain": [
       "'Table: car dropped'"
      ]
     },
     "execution_count": 13,
     "metadata": {},
     "output_type": "execute_result"
    }
   ],
   "source": [
    "#9. try to delete table\n",
    "conn_1.drop_table(TABLE)"
   ]
  },
  {
   "cell_type": "code",
   "execution_count": 14,
   "metadata": {},
   "outputs": [
    {
     "data": {
      "text/plain": [
       "'Databse: cardataset dropped'"
      ]
     },
     "execution_count": 14,
     "metadata": {},
     "output_type": "execute_result"
    }
   ],
   "source": [
    "#10.Try to delete database\n",
    "conn_1.drop_database(DB)"
   ]
  },
  {
   "cell_type": "code",
   "execution_count": null,
   "metadata": {},
   "outputs": [],
   "source": []
  }
 ],
 "metadata": {
  "kernelspec": {
   "display_name": "Python 3",
   "language": "python",
   "name": "python3"
  },
  "language_info": {
   "codemirror_mode": {
    "name": "ipython",
    "version": 3
   },
   "file_extension": ".py",
   "mimetype": "text/x-python",
   "name": "python",
   "nbconvert_exporter": "python",
   "pygments_lexer": "ipython3",
   "version": "3.7.6"
  }
 },
 "nbformat": 4,
 "nbformat_minor": 4
}
